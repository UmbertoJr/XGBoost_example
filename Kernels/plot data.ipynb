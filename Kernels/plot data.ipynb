{
 "cells": [
  {
   "cell_type": "code",
   "execution_count": 14,
   "metadata": {},
   "outputs": [
    {
     "data": {
      "text/html": [
       "<dl class=dl-horizontal>\n",
       "\t<dt>data.table</dt>\n",
       "\t\t<dd>TRUE</dd>\n",
       "\t<dt>testthat</dt>\n",
       "\t\t<dd>TRUE</dd>\n",
       "\t<dt>gridExtra</dt>\n",
       "\t\t<dd>TRUE</dd>\n",
       "\t<dt>corrplot</dt>\n",
       "\t\t<dd>TRUE</dd>\n",
       "\t<dt>GGally</dt>\n",
       "\t\t<dd>TRUE</dd>\n",
       "\t<dt>ggplot2</dt>\n",
       "\t\t<dd>TRUE</dd>\n",
       "\t<dt>e1071</dt>\n",
       "\t\t<dd>TRUE</dd>\n",
       "\t<dt>dplyr</dt>\n",
       "\t\t<dd>TRUE</dd>\n",
       "</dl>\n"
      ],
      "text/latex": [
       "\\begin{description*}\n",
       "\\item[data.table] TRUE\n",
       "\\item[testthat] TRUE\n",
       "\\item[gridExtra] TRUE\n",
       "\\item[corrplot] TRUE\n",
       "\\item[GGally] TRUE\n",
       "\\item[ggplot2] TRUE\n",
       "\\item[e1071] TRUE\n",
       "\\item[dplyr] TRUE\n",
       "\\end{description*}\n"
      ],
      "text/markdown": [
       "data.table\n",
       ":   TRUEtestthat\n",
       ":   TRUEgridExtra\n",
       ":   TRUEcorrplot\n",
       ":   TRUEGGally\n",
       ":   TRUEggplot2\n",
       ":   TRUEe1071\n",
       ":   TRUEdplyr\n",
       ":   TRUE\n",
       "\n"
      ],
      "text/plain": [
       "data.table   testthat  gridExtra   corrplot     GGally    ggplot2      e1071 \n",
       "      TRUE       TRUE       TRUE       TRUE       TRUE       TRUE       TRUE \n",
       "     dplyr \n",
       "      TRUE "
      ]
     },
     "metadata": {},
     "output_type": "display_data"
    }
   ],
   "source": [
    "load.libraries <- c('data.table', 'testthat', 'gridExtra', 'corrplot', 'GGally', 'ggplot2', 'e1071', 'dplyr')\n",
    "sapply(load.libraries, require, character = TRUE)"
   ]
  },
  {
   "cell_type": "code",
   "execution_count": 24,
   "metadata": {},
   "outputs": [],
   "source": [
    "train <- read.csv(file = 'train.csv', header = 1)\n",
    "cat_var <- names(train)[which(sapply(train, is.character))]\n",
    "cat_car <- c(cat_var, 'BedroomAbvGr', 'HalfBath', ' KitchenAbvGr','BsmtFullBath', 'BsmtHalfBath', 'MSSubClass')\n",
    "numeric_var <- names(train)[which(sapply(train, is.numeric))]"
   ]
  },
  {
   "cell_type": "code",
   "execution_count": 44,
   "metadata": {},
   "outputs": [],
   "source": [
    "plot_Missing <- function(data_in, title = NULL){\n",
    "  temp_df <- as.data.frame(ifelse(is.na(data_in), 0, 1))\n",
    "  temp_df <- temp_df[,order(colSums(temp_df))]\n",
    "  data_temp <- expand.grid(list(x = 1:nrow(temp_df), y = colnames(temp_df)))\n",
    "  data_temp$m <- as.vector(as.matrix(temp_df))\n",
    "  data_temp <- data.frame(x = unlist(data_temp$x), y = unlist(data_temp$y),\n",
    "                          m = unlist(data_temp$m))\n",
    "  ggplot(data_temp) + geom_tile(aes(x=x, y=y, fill=factor(m)))+ \n",
    "    scale_fill_manual(values=c(\"white\", \"black\"), name=\"Missing\\n (0=Yes, 1=No)\")+ \n",
    "    theme_light() + ylab(\"\") + xlab(\"\") + ggtitle(title)\n",
    "}\n"
   ]
  },
  {
   "cell_type": "code",
   "execution_count": 45,
   "metadata": {},
   "outputs": [
    {
     "data": {},
     "metadata": {},
     "output_type": "display_data"
    },
    {
     "data": {
      "image/png": "[encoded data removed]",
      "text/plain": [
       "plot without title"
      ]
     },
     "metadata": {},
     "output_type": "display_data"
    }
   ],
   "source": [
    "plot_Missing(train[,colSums(is.na(train)) > 0])"
   ]
  },
  {
   "cell_type": "code",
   "execution_count": 49,
   "metadata": {},
   "outputs": [
    {
     "data": {},
     "metadata": {},
     "output_type": "display_data"
    },
    {
     "data": {
      "image/png": "[encoded data removed]",
      "text/plain": [
       "plot without title"
      ]
     },
     "metadata": {},
     "output_type": "display_data"
    }
   ],
   "source": [
    "train %>% select(YearBuilt, YearRemodAdd)%>% \n",
    "mutate(Remodeled = as.integer(YearBuilt != YearRemodAdd)) %>% \n",
    "ggplot(aes(x= factor(x = Remodeled, labels = c( 'No','Yes'))))+ \n",
    "geom_bar() + xlab('Remodeled') + theme_light()"
   ]
  },
  {
   "cell_type": "code",
   "execution_count": 50,
   "metadata": {},
   "outputs": [],
   "source": [
    "test <- read.csv(file = 'test.csv', header = T)"
   ]
  },
  {
   "cell_type": "code",
   "execution_count": 54,
   "metadata": {},
   "outputs": [
    {
     "name": "stdout",
     "output_type": "stream",
     "text": [
      "The number of duplicated rows in the test are 0"
     ]
    }
   ],
   "source": [
    "cat(\"The number of duplicated rows in the test are\", nrow(test) - nrow(unique(test)))"
   ]
  },
  {
   "cell_type": "code",
   "execution_count": 58,
   "metadata": {},
   "outputs": [
    {
     "ename": "ERROR",
     "evalue": "Error in `:=`((cat_var), lapply(train[, (cat_var)], as.factor)): Check that is.data.table(DT) == TRUE. Otherwise, := and `:=`(...) are defined for use in j, once only and in particular ways. See help(\":=\").\n",
     "output_type": "error",
     "traceback": [
      "Error in `:=`((cat_var), lapply(train[, (cat_var)], as.factor)): Check that is.data.table(DT) == TRUE. Otherwise, := and `:=`(...) are defined for use in j, once only and in particular ways. See help(\":=\").\nTraceback:\n",
      "1. train[, `:=`((cat_var), lapply(train[, (cat_var)], as.factor))]",
      "2. `[.data.frame`(train, , `:=`((cat_var), lapply(train[, (cat_var)], \n .     as.factor)))",
      "3. `:=`((cat_var), lapply(train[, (cat_var)], as.factor))",
      "4. stop(\"Check that is.data.table(DT) == TRUE. Otherwise, := and `:=`(...) are defined for use in j, once only and in particular ways. See help(\\\":=\\\").\")"
     ]
    }
   ],
   "source": [
    "train[,(cat_var) := lapply(train[,(cat_var)], as.factor)]"
   ]
  },
  {
   "cell_type": "code",
   "execution_count": 61,
   "metadata": {},
   "outputs": [
    {
     "name": "stderr",
     "output_type": "stream",
     "text": [
      "Warning message in rbind(parts$upper, ellip_v, parts$lower, deparse.level = 0L):\n",
      "\"number of columns of result is not a multiple of vector length (arg 2)\""
     ]
    },
    {
     "data": {
      "text/html": [],
      "text/latex": [],
      "text/markdown": [],
      "text/plain": [
       "    \n",
       "1   \n",
       "2   \n",
       "3   \n",
       "4   \n",
       "5   \n",
       "6   \n",
       "7   \n",
       "8   \n",
       "9   \n",
       "10  \n",
       "11  \n",
       "12  \n",
       "13  \n",
       "14  \n",
       "15  \n",
       "16  \n",
       "17  \n",
       "18  \n",
       "19  \n",
       "20  \n",
       "21  \n",
       "22  \n",
       "23  \n",
       "24  \n",
       "25  \n",
       "26  \n",
       "27  \n",
       "28  \n",
       "29  \n",
       "30  \n",
       "... \n",
       "1431\n",
       "1432\n",
       "1433\n",
       "1434\n",
       "1435\n",
       "1436\n",
       "1437\n",
       "1438\n",
       "1439\n",
       "1440\n",
       "1441\n",
       "1442\n",
       "1443\n",
       "1444\n",
       "1445\n",
       "1446\n",
       "1447\n",
       "1448\n",
       "1449\n",
       "1450\n",
       "1451\n",
       "1452\n",
       "1453\n",
       "1454\n",
       "1455\n",
       "1456\n",
       "1457\n",
       "1458\n",
       "1459\n",
       "1460"
      ]
     },
     "metadata": {},
     "output_type": "display_data"
    }
   ],
   "source": [
    "train[,cat_var]"
   ]
  },
  {
   "cell_type": "code",
   "execution_count": 63,
   "metadata": {},
   "outputs": [
    {
     "ename": "ERROR",
     "evalue": "Error in `[.data.frame`(train, , .SD, .SDcols = cat_var): unused argument (.SDcols = cat_var)\n",
     "output_type": "error",
     "traceback": [
      "Error in `[.data.frame`(train, , .SD, .SDcols = cat_var): unused argument (.SDcols = cat_var)\nTraceback:\n",
      "1. train[, .SD, .SDcols = cat_var]"
     ]
    }
   ],
   "source": [
    "train_cat <- train[,.SD, .SDcols = cat_var]\n",
    "train_cont <- train[,.SD,.SDcols = numeric_var]\n",
    "\n",
    "plotHist <- function(data_in, i) {\n",
    "  data <- data.frame(x=data_in[[i]])\n",
    "  p <- ggplot(data=data, aes(x=factor(x))) + stat_count() + xlab(colnames(data_in)[i]) + theme_light() + \n",
    "    theme(axis.text.x = element_text(angle = 90, hjust =1))\n",
    "  return (p)\n",
    "}\n",
    "\n",
    "doPlots <- function(data_in, fun, ii, ncol=3) {\n",
    "  pp <- list()\n",
    "  for (i in ii) {\n",
    "    p <- fun(data_in=data_in, i=i)\n",
    "    pp <- c(pp, list(p))\n",
    "  }\n",
    "  do.call(\"grid.arrange\", c(pp, ncol=ncol))\n",
    "}\n",
    "plotDen <- function(data_in, i){\n",
    "  data <- data.frame(x=data_in[[i]], SalePrice = data_in$SalePrice)\n",
    "  p <- ggplot(data= data) + geom_line(aes(x = x), stat = 'density', size = 1,alpha = 1.0) +\n",
    "    xlab(paste0((colnames(data_in)[i]), '\\n', 'Skewness: ',round(skewness(data_in[[i]], na.rm = TRUE), 2))) + theme_light() \n",
    "  return(p)\n",
    "   \n",
    "}"
   ]
  },
  {
   "cell_type": "code",
   "execution_count": 65,
   "metadata": {},
   "outputs": [
    {
     "data": {},
     "metadata": {},
     "output_type": "display_data"
    },
    {
     "data": {
      "image/png": "[encoded data removed]",
      "text/plain": [
       "plot without title"
      ]
     },
     "metadata": {},
     "output_type": "display_data"
    }
   ],
   "source": [
    "train %>% select(LandSlope, Neighborhood, SalePrice) %>% \n",
    "filter(LandSlope == c('Sev', 'Mod')) %>% arrange(Neighborhood) %>% \n",
    "group_by(Neighborhood, LandSlope) %>% summarize(Count = n()) %>%\n",
    "ggplot(aes(Neighborhood, Count)) + geom_bar(aes(fill = LandSlope),\n",
    "                                            position = 'dodge', stat = 'identity') +\n",
    "theme_light() +theme(axis.text.x = element_text(angle = 90, hjust =1))"
   ]
  },
  {
   "cell_type": "code",
   "execution_count": null,
   "metadata": {},
   "outputs": [],
   "source": []
  }
 ],
 "metadata": {
  "kernelspec": {
   "display_name": "R",
   "language": "R",
   "name": "ir"
  },
  "language_info": {
   "codemirror_mode": "r",
   "file_extension": ".r",
   "mimetype": "text/x-r-source",
   "name": "R",
   "pygments_lexer": "r",
   "version": "3.4.2"
  }
 },
 "nbformat": 4,
 "nbformat_minor": 2
}
