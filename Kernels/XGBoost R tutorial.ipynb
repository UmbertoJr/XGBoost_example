{
 "cells": [
  {
   "cell_type": "code",
   "execution_count": 22,
   "metadata": {},
   "outputs": [],
   "source": [
    "require(xgboost)"
   ]
  },
  {
   "cell_type": "code",
   "execution_count": 23,
   "metadata": {},
   "outputs": [],
   "source": [
    "data(agaricus.train, package='xgboost')\n",
    "data(agaricus.test, package='xgboost')\n",
    "train <- agaricus.train\n",
    "test <- agaricus.test"
   ]
  },
  {
   "cell_type": "code",
   "execution_count": 24,
   "metadata": {},
   "outputs": [
    {
     "name": "stdout",
     "output_type": "stream",
     "text": [
      "List of 2\n",
      " $ data :Formal class 'dgCMatrix' [package \"Matrix\"] with 6 slots\n",
      "  .. ..@ i       : int [1:143286] 2 6 8 11 18 20 21 24 28 32 ...\n",
      "  .. ..@ p       : int [1:127] 0 369 372 3306 5845 6489 6513 8380 8384 10991 ...\n",
      "  .. ..@ Dim     : int [1:2] 6513 126\n",
      "  .. ..@ Dimnames:List of 2\n",
      "  .. .. ..$ : NULL\n",
      "  .. .. ..$ : chr [1:126] \"cap-shape=bell\" \"cap-shape=conical\" \"cap-shape=convex\" \"cap-shape=flat\" ...\n",
      "  .. ..@ x       : num [1:143286] 1 1 1 1 1 1 1 1 1 1 ...\n",
      "  .. ..@ factors : list()\n",
      " $ label: num [1:6513] 1 0 0 1 0 0 0 1 0 0 ...\n"
     ]
    }
   ],
   "source": [
    "str(train)"
   ]
  },
  {
   "cell_type": "code",
   "execution_count": 25,
   "metadata": {},
   "outputs": [
    {
     "data": {
      "text/html": [
       "<ol class=list-inline>\n",
       "\t<li>6513</li>\n",
       "\t<li>126</li>\n",
       "</ol>\n"
      ],
      "text/latex": [
       "\\begin{enumerate*}\n",
       "\\item 6513\n",
       "\\item 126\n",
       "\\end{enumerate*}\n"
      ],
      "text/markdown": [
       "1. 6513\n",
       "2. 126\n",
       "\n",
       "\n"
      ],
      "text/plain": [
       "[1] 6513  126"
      ]
     },
     "metadata": {},
     "output_type": "display_data"
    }
   ],
   "source": [
    "dim(train$data)"
   ]
  },
  {
   "cell_type": "code",
   "execution_count": 26,
   "metadata": {},
   "outputs": [
    {
     "name": "stdout",
     "output_type": "stream",
     "text": [
      "[1]\ttrain-error:0.046522 \n",
      "[2]\ttrain-error:0.022263 \n"
     ]
    }
   ],
   "source": [
    "bstSparse <- xgboost(data = train$data, label = train$label, max.depth = 2,\n",
    "                     eta = 1, nthread = 2, nround = 2, objective = \"binary:logistic\")"
   ]
  },
  {
   "cell_type": "code",
   "execution_count": 27,
   "metadata": {},
   "outputs": [
    {
     "name": "stdout",
     "output_type": "stream",
     "text": [
      "[1]\ttrain-error:0.046522 \n",
      "[2]\ttrain-error:0.022263 \n"
     ]
    }
   ],
   "source": [
    "### using xgb matrix\n",
    "dtrain <- xgb.DMatrix(data = train$data, label = train$label)\n",
    "bstDMatrix <- xgboost(data = dtrain, max.depth = 2, eta = 1,\n",
    "                      nthread = 2, nround = 2, objective = \"binary:logistic\")"
   ]
  },
  {
   "cell_type": "code",
   "execution_count": 28,
   "metadata": {},
   "outputs": [],
   "source": [
    "# verbose = 1, print evaluation message ,  while with verbose 0, no message\n",
    "bst <- xgboost(data = dtrain, max.depth = 2, eta = 1,\n",
    "               nthread = 2, nround = 2, objective = \"binary:logistic\", verbose = 0)"
   ]
  },
  {
   "cell_type": "code",
   "execution_count": 29,
   "metadata": {},
   "outputs": [
    {
     "name": "stdout",
     "output_type": "stream",
     "text": [
      "[02:30:51] amalgamation/../src/tree/updater_prune.cc:74: tree pruning end, 1 roots, 6 extra nodes, 0 pruned nodes, max_depth=2\n",
      "[1]\ttrain-error:0.046522 \n",
      "[02:30:51] amalgamation/../src/tree/updater_prune.cc:74: tree pruning end, 1 roots, 4 extra nodes, 0 pruned nodes, max_depth=2\n",
      "[2]\ttrain-error:0.022263 \n"
     ]
    }
   ],
   "source": [
    "# verbose = 2, also print information about tree\n",
    "bst <- xgboost(data = dtrain, max.depth = 2, eta = 1,\n",
    "               nthread = 2, nround = 2, objective = \"binary:logistic\", verbose = 2)"
   ]
  },
  {
   "cell_type": "code",
   "execution_count": 30,
   "metadata": {},
   "outputs": [
    {
     "name": "stdout",
     "output_type": "stream",
     "text": [
      "[1] 1611\n"
     ]
    }
   ],
   "source": [
    "pred <- predict(bst, test$data)\n",
    "\n",
    "# size of the prediction vector\n",
    "print(length(pred))"
   ]
  },
  {
   "cell_type": "code",
   "execution_count": 31,
   "metadata": {},
   "outputs": [
    {
     "name": "stdout",
     "output_type": "stream",
     "text": [
      "[1] \"test-error= 0.0217256362507759\"\n"
     ]
    }
   ],
   "source": [
    "prediction <- as.numeric(pred > 0.5)\n",
    "err <- mean(as.numeric(pred > 0.5) != test$label)\n",
    "print(paste(\"test-error=\", err))"
   ]
  },
  {
   "cell_type": "code",
   "execution_count": 32,
   "metadata": {},
   "outputs": [
    {
     "name": "stdout",
     "output_type": "stream",
     "text": [
      "[1]\ttrain-error:0.046522\ttest-error:0.042831 \n",
      "[2]\ttrain-error:0.022263\ttest-error:0.021726 \n",
      "[3]\ttrain-error:0.007063\ttest-error:0.006207 \n",
      "[4]\ttrain-error:0.015200\ttest-error:0.018001 \n",
      "[5]\ttrain-error:0.007063\ttest-error:0.006207 \n"
     ]
    }
   ],
   "source": [
    "### Advanced features\n",
    "dtrain <- xgb.DMatrix(data = train$data, label=train$label)\n",
    "dtest <- xgb.DMatrix(data = test$data, label=test$label)\n",
    "\n",
    "watchlist <- list(train=dtrain, test=dtest)\n",
    "\n",
    "bst <- xgb.train(data=dtrain, max.depth=2, eta=1,\n",
    "                 nthread = 2, nround=5, \n",
    "                 watchlist=watchlist, objective = \"binary:logistic\")"
   ]
  },
  {
   "cell_type": "code",
   "execution_count": 33,
   "metadata": {},
   "outputs": [
    {
     "name": "stdout",
     "output_type": "stream",
     "text": [
      "[1]\ttrain-error:0.046522\ttrain-logloss:0.233376\ttest-error:0.042831\ttest-logloss:0.226686 \n",
      "[2]\ttrain-error:0.022263\ttrain-logloss:0.136658\ttest-error:0.021726\ttest-logloss:0.137874 \n"
     ]
    }
   ],
   "source": [
    "bst <- xgb.train(data=dtrain, max.depth=2, eta=1, \n",
    "                 nthread = 2, nround=2, watchlist=watchlist,\n",
    "                 eval.metric = \"error\", eval.metric = \"logloss\", objective = \"binary:logistic\")"
   ]
  },
  {
   "cell_type": "code",
   "execution_count": 34,
   "metadata": {},
   "outputs": [
    {
     "name": "stdout",
     "output_type": "stream",
     "text": [
      "[1]\ttrain-error:0.013204\ttrain-logloss:0.180967\ttest-error:0.009932\ttest-logloss:0.181318 \n",
      "[2]\ttrain-error:0.003531\ttrain-logloss:0.069245\ttest-error:0.001862\ttest-logloss:0.068043 \n"
     ]
    }
   ],
   "source": [
    "#### linear boosting \n",
    "bst <- xgb.train(data=dtrain, booster = \"gblinear\", max.depth=2, \n",
    "                 nthread = 2, nround=2, watchlist=watchlist,\n",
    "                 eval.metric = \"error\", eval.metric = \"logloss\", objective = \"binary:logistic\")"
   ]
  },
  {
   "cell_type": "code",
   "execution_count": 35,
   "metadata": {},
   "outputs": [
    {
     "data": {
      "text/html": [
       "TRUE"
      ],
      "text/latex": [
       "TRUE"
      ],
      "text/markdown": [
       "TRUE"
      ],
      "text/plain": [
       "[1] TRUE"
      ]
     },
     "metadata": {},
     "output_type": "display_data"
    }
   ],
   "source": [
    "xgb.DMatrix.save(dtrain, \"dtrain.buffer\")"
   ]
  },
  {
   "cell_type": "code",
   "execution_count": 36,
   "metadata": {},
   "outputs": [
    {
     "name": "stdout",
     "output_type": "stream",
     "text": [
      "[02:42:08] 6513x126 matrix with 143286 entries loaded from dtrain.buffer\n"
     ]
    }
   ],
   "source": [
    "# to load it in, simply call xgb.DMatrix\n",
    "dtrain2 <- xgb.DMatrix(\"dtrain.buffer\")"
   ]
  },
  {
   "cell_type": "code",
   "execution_count": 37,
   "metadata": {},
   "outputs": [
    {
     "name": "stdout",
     "output_type": "stream",
     "text": [
      "[1]\ttrain-error:0.046522\ttest-error:0.042831 \n",
      "[2]\ttrain-error:0.022263\ttest-error:0.021726 \n"
     ]
    }
   ],
   "source": [
    "bst <- xgb.train(data=dtrain2, max.depth=2, eta=1, \n",
    "                 nthread = 2, nround=2,\n",
    "                 watchlist=watchlist, objective = \"binary:logistic\")"
   ]
  },
  {
   "cell_type": "code",
   "execution_count": 38,
   "metadata": {},
   "outputs": [
    {
     "name": "stdout",
     "output_type": "stream",
     "text": [
      "[1] \"test-error= 0.0217256362507759\"\n"
     ]
    }
   ],
   "source": [
    "label = getinfo(dtest, \"label\")\n",
    "pred <- predict(bst, dtest)\n",
    "err <- as.numeric(sum(as.integer(pred > 0.5) != label))/length(label)\n",
    "print(paste(\"test-error=\", err))"
   ]
  },
  {
   "cell_type": "code",
   "execution_count": 40,
   "metadata": {},
   "outputs": [
    {
     "name": "stdout",
     "output_type": "stream",
     "text": [
      "   Feature       Gain     Cover Frequency\n",
      "1:      28 0.67615484 0.4978746       0.4\n",
      "2:      55 0.17135352 0.1920543       0.2\n",
      "3:      59 0.12317241 0.1638750       0.2\n",
      "4:     108 0.02931922 0.1461960       0.2\n"
     ]
    },
    {
     "data": {
      "image/png": "[encoded data removed]",
      "text/plain": [
       "plot without title"
      ]
     },
     "metadata": {},
     "output_type": "display_data"
    }
   ],
   "source": [
    "## feature importance\n",
    "importance_matrix <- xgb.importance(model = bst)\n",
    "print(importance_matrix)\n",
    "xgb.plot.importance(importance_matrix = importance_matrix)"
   ]
  },
  {
   "cell_type": "code",
   "execution_count": 50,
   "metadata": {},
   "outputs": [
    {
     "data": {
      "text/html": [
       "TRUE"
      ],
      "text/latex": [
       "TRUE"
      ],
      "text/markdown": [
       "TRUE"
      ],
      "text/plain": [
       "[1] TRUE"
      ]
     },
     "metadata": {},
     "output_type": "display_data"
    }
   ],
   "source": [
    "# save model to binary local file\n",
    "xgb.save(bst, \"xgboost.model\")"
   ]
  },
  {
   "cell_type": "code",
   "execution_count": 64,
   "metadata": {},
   "outputs": [
    {
     "name": "stdout",
     "output_type": "stream",
     "text": [
      "[1] \"sum(abs(pred2-pred))= 0\"\n"
     ]
    }
   ],
   "source": [
    "# load binary model to R\n",
    "bst2 <- xgb.load(\"xgboost.model\")\n",
    "pred2 <- predict(bst2, test$data)\n",
    "\n",
    "# And now the test\n",
    "print(paste(\"sum(abs(pred2-pred))=\", sum(abs(pred2-pred))))"
   ]
  }
 ],
 "metadata": {
  "kernelspec": {
   "display_name": "R [Anaconda3]",
   "language": "R",
   "name": "R [Anaconda3]"
  },
  "language_info": {
   "codemirror_mode": "r",
   "file_extension": ".r",
   "mimetype": "text/x-r-source",
   "name": "R",
   "pygments_lexer": "r",
   "version": "3.4.2"
  }
 },
 "nbformat": 4,
 "nbformat_minor": 2
}
