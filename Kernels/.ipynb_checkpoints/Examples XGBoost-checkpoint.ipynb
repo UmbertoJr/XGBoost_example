{
 "cells": [
  {
   "cell_type": "code",
   "execution_count": 1,
   "metadata": {},
   "outputs": [
    {
     "name": "stderr",
     "output_type": "stream",
     "text": [
      "Loading required package: xgboost\n",
      "Warning message:\n",
      "\"package 'xgboost' was built under R version 3.4.3\""
     ]
    }
   ],
   "source": [
    "require(xgboost)\n",
    "# load in the agaricus dataset\n",
    "data(agaricus.train, package='xgboost')\n",
    "data(agaricus.test, package='xgboost')\n",
    "dtrain <- xgb.DMatrix(agaricus.train$data, label = agaricus.train$label)\n",
    "dtest <- xgb.DMatrix(agaricus.test$data, label = agaricus.test$label)\n",
    "\n",
    "param <- list(max_depth=2, eta=1, silent=1, objective='binary:logistic')\n",
    "watchlist <- list(eval = dtest, train = dtrain)\n",
    "nround = 2"
   ]
  },
  {
   "cell_type": "code",
   "execution_count": 3,
   "metadata": {},
   "outputs": [
    {
     "name": "stdout",
     "output_type": "stream",
     "text": [
      "[1]\teval-error:0.042831\ttrain-error:0.046522 \n",
      "[2]\teval-error:0.021726\ttrain-error:0.022263 \n"
     ]
    }
   ],
   "source": [
    "# training the model for two rounds\n",
    "bst = xgb.train(param, dtrain, nround, nthread = 2, watchlist)\n"
   ]
  },
  {
   "cell_type": "code",
   "execution_count": 4,
   "metadata": {},
   "outputs": [
    {
     "name": "stdout",
     "output_type": "stream",
     "text": [
      "start testing prediction from first n trees\n",
      "error of ypred1= 0.04283054 \n",
      "error of ypred2= 0.02172564 \n"
     ]
    }
   ],
   "source": [
    "cat('start testing prediction from first n trees\\n')\n",
    "labels <- getinfo(dtest,'label')\n",
    "### predict using first 1 tree\n",
    "ypred1 = predict(bst, dtest, ntreelimit=1)\n",
    "# by default, we predict using all the trees\n",
    "ypred2 = predict(bst, dtest)\n",
    "\n",
    "cat('error of ypred1=', mean(as.numeric(ypred1>0.5)!=labels),'\\n')\n",
    "cat('error of ypred2=', mean(as.numeric(ypred2>0.5)!=labels),'\\n')"
   ]
  },
  {
   "cell_type": "markdown",
   "metadata": {},
   "source": [
    "## Generalized Linear Model"
   ]
  },
  {
   "cell_type": "code",
   "execution_count": 5,
   "metadata": {},
   "outputs": [],
   "source": [
    "require(xgboost)\n",
    "# load in the agaricus dataset\n",
    "data(agaricus.train, package='xgboost')\n",
    "data(agaricus.test, package='xgboost')\n",
    "dtrain <- xgb.DMatrix(agaricus.train$data, label = agaricus.train$label)\n",
    "dtest <- xgb.DMatrix(agaricus.test$data, label = agaricus.test$label)"
   ]
  },
  {
   "cell_type": "code",
   "execution_count": 7,
   "metadata": {},
   "outputs": [],
   "source": [
    "##\n",
    "#  this script demonstrate how to fit generalized linear model in xgboost\n",
    "#  basically, we are using linear model, instead of tree for our boosters\n",
    "#  you can fit a linear regression, or logistic regression model\n",
    "##\n",
    "\n",
    "# change booster to gblinear, so that we are fitting a linear model\n",
    "# alpha is the L1 regularizer \n",
    "# lambda is the L2 regularizer\n",
    "# you can also set lambda_bias which is L2 regularizer on the bias term\n",
    "param <- list(objective = \"binary:logistic\", booster = \"gblinear\",\n",
    "              nthread = 2, alpha = 0.0001, lambda = 1, lambda_bias = 1)\n"
   ]
  },
  {
   "cell_type": "code",
   "execution_count": 8,
   "metadata": {},
   "outputs": [
    {
     "name": "stdout",
     "output_type": "stream",
     "text": [
      "[1]\teval-error:0.016760\ttrain-error:0.024106 \n",
      "[2]\teval-error:0.004966\ttrain-error:0.005681 \n",
      "error of preds= 0.00496586 \n"
     ]
    }
   ],
   "source": [
    "# normally, you do not need to set eta (step_size)\n",
    "# XGBoost uses a parallel coordinate descent algorithm (shotgun), \n",
    "# there could be affection on convergence with parallelization on certain cases\n",
    "# setting eta to be smaller value, e.g 0.5 can make the optimization more stable\n",
    "\n",
    "##\n",
    "# the rest of settings are the same\n",
    "##\n",
    "watchlist <- list(eval = dtest, train = dtrain)\n",
    "num_round <- 2\n",
    "bst <- xgb.train(param, dtrain, num_round, watchlist)\n",
    "ypred <- predict(bst, dtest)\n",
    "labels <- getinfo(dtest, 'label')\n",
    "cat('error of preds=', mean(as.numeric(ypred>0.5)!=labels),'\\n')\n"
   ]
  }
 ],
 "metadata": {
  "kernelspec": {
   "display_name": "R [Anaconda3]",
   "language": "R",
   "name": "R [Anaconda3]"
  },
  "language_info": {
   "codemirror_mode": "r",
   "file_extension": ".r",
   "mimetype": "text/x-r-source",
   "name": "R",
   "pygments_lexer": "r",
   "version": "3.4.2"
  }
 },
 "nbformat": 4,
 "nbformat_minor": 2
}
