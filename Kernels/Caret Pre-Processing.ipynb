{
 "cells": [
  {
   "cell_type": "markdown",
   "metadata": {},
   "source": [
    "## Creating Dummy Variables"
   ]
  },
  {
   "cell_type": "code",
   "execution_count": 1,
   "metadata": {},
   "outputs": [
    {
     "name": "stderr",
     "output_type": "stream",
     "text": [
      "also installing the dependencies 'plotrix', 'plotmo', 'TeachingDemos'\n",
      "\n"
     ]
    },
    {
     "name": "stdout",
     "output_type": "stream",
     "text": [
      "package 'plotrix' successfully unpacked and MD5 sums checked\n",
      "package 'plotmo' successfully unpacked and MD5 sums checked\n",
      "package 'TeachingDemos' successfully unpacked and MD5 sums checked\n",
      "package 'earth' successfully unpacked and MD5 sums checked\n",
      "\n",
      "The downloaded binary packages are in\n",
      "\tC:\\Users\\Umbertojunior\\AppData\\Local\\Temp\\RtmpMhAC1I\\downloaded_packages\n"
     ]
    }
   ],
   "source": [
    "install.packages(\"earth\", repos=\"http://cran.stat.unipd.it/\")"
   ]
  },
  {
   "cell_type": "code",
   "execution_count": 2,
   "metadata": {},
   "outputs": [
    {
     "name": "stderr",
     "output_type": "stream",
     "text": [
      "Warning message:\n",
      "\"package 'earth' was built under R version 3.4.3\"Loading required package: plotmo\n",
      "Warning message:\n",
      "\"package 'plotmo' was built under R version 3.4.3\"Loading required package: plotrix\n",
      "Warning message:\n",
      "\"package 'plotrix' was built under R version 3.4.3\"Loading required package: TeachingDemos\n",
      "Warning message:\n",
      "\"package 'TeachingDemos' was built under R version 3.4.3\""
     ]
    },
    {
     "data": {
      "text/html": [
       "<table>\n",
       "<thead><tr><th></th><th scope=col>(Intercept)</th><th scope=col>pclass2nd</th><th scope=col>pclass3rd</th><th scope=col>sexmale</th><th scope=col>age</th><th scope=col>sibsp</th><th scope=col>parch</th></tr></thead>\n",
       "<tbody>\n",
       "\t<tr><th scope=row>1</th><td>1      </td><td>0      </td><td>0      </td><td>0      </td><td>29.0000</td><td>0      </td><td>0      </td></tr>\n",
       "\t<tr><th scope=row>2</th><td>1      </td><td>0      </td><td>0      </td><td>1      </td><td> 0.9167</td><td>1      </td><td>2      </td></tr>\n",
       "\t<tr><th scope=row>3</th><td>1      </td><td>0      </td><td>0      </td><td>0      </td><td> 2.0000</td><td>1      </td><td>2      </td></tr>\n",
       "\t<tr><th scope=row>4</th><td>1      </td><td>0      </td><td>0      </td><td>1      </td><td>30.0000</td><td>1      </td><td>2      </td></tr>\n",
       "\t<tr><th scope=row>5</th><td>1      </td><td>0      </td><td>0      </td><td>0      </td><td>25.0000</td><td>1      </td><td>2      </td></tr>\n",
       "\t<tr><th scope=row>6</th><td>1      </td><td>0      </td><td>0      </td><td>1      </td><td>48.0000</td><td>0      </td><td>0      </td></tr>\n",
       "</tbody>\n",
       "</table>\n"
      ],
      "text/latex": [
       "\\begin{tabular}{r|lllllll}\n",
       "  & (Intercept) & pclass2nd & pclass3rd & sexmale & age & sibsp & parch\\\\\n",
       "\\hline\n",
       "\t1 & 1       & 0       & 0       & 0       & 29.0000 & 0       & 0      \\\\\n",
       "\t2 & 1       & 0       & 0       & 1       &  0.9167 & 1       & 2      \\\\\n",
       "\t3 & 1       & 0       & 0       & 0       &  2.0000 & 1       & 2      \\\\\n",
       "\t4 & 1       & 0       & 0       & 1       & 30.0000 & 1       & 2      \\\\\n",
       "\t5 & 1       & 0       & 0       & 0       & 25.0000 & 1       & 2      \\\\\n",
       "\t6 & 1       & 0       & 0       & 1       & 48.0000 & 0       & 0      \\\\\n",
       "\\end{tabular}\n"
      ],
      "text/markdown": [
       "\n",
       "| <!--/--> | (Intercept) | pclass2nd | pclass3rd | sexmale | age | sibsp | parch | \n",
       "|---|---|---|---|---|---|\n",
       "| 1 | 1       | 0       | 0       | 0       | 29.0000 | 0       | 0       | \n",
       "| 2 | 1       | 0       | 0       | 1       |  0.9167 | 1       | 2       | \n",
       "| 3 | 1       | 0       | 0       | 0       |  2.0000 | 1       | 2       | \n",
       "| 4 | 1       | 0       | 0       | 1       | 30.0000 | 1       | 2       | \n",
       "| 5 | 1       | 0       | 0       | 0       | 25.0000 | 1       | 2       | \n",
       "| 6 | 1       | 0       | 0       | 1       | 48.0000 | 0       | 0       | \n",
       "\n",
       "\n"
      ],
      "text/plain": [
       "  (Intercept) pclass2nd pclass3rd sexmale age     sibsp parch\n",
       "1 1           0         0         0       29.0000 0     0    \n",
       "2 1           0         0         1        0.9167 1     2    \n",
       "3 1           0         0         0        2.0000 1     2    \n",
       "4 1           0         0         1       30.0000 1     2    \n",
       "5 1           0         0         0       25.0000 1     2    \n",
       "6 1           0         0         1       48.0000 0     0    "
      ]
     },
     "metadata": {},
     "output_type": "display_data"
    }
   ],
   "source": [
    "library(earth)\n",
    "data(etitanic)\n",
    "head(model.matrix(survived ~ ., data = etitanic))"
   ]
  },
  {
   "cell_type": "code",
   "execution_count": 4,
   "metadata": {},
   "outputs": [
    {
     "name": "stderr",
     "output_type": "stream",
     "text": [
      "Loading required package: caret\n",
      "Loading required package: lattice\n",
      "Loading required package: ggplot2\n"
     ]
    },
    {
     "data": {
      "text/html": [
       "<table>\n",
       "<thead><tr><th></th><th scope=col>pclass.1st</th><th scope=col>pclass.2nd</th><th scope=col>pclass.3rd</th><th scope=col>sex.female</th><th scope=col>sex.male</th><th scope=col>age</th><th scope=col>sibsp</th><th scope=col>parch</th></tr></thead>\n",
       "<tbody>\n",
       "\t<tr><th scope=row>1</th><td>1      </td><td>0      </td><td>0      </td><td>1      </td><td>0      </td><td>29.0000</td><td>0      </td><td>0      </td></tr>\n",
       "\t<tr><th scope=row>2</th><td>1      </td><td>0      </td><td>0      </td><td>0      </td><td>1      </td><td> 0.9167</td><td>1      </td><td>2      </td></tr>\n",
       "\t<tr><th scope=row>3</th><td>1      </td><td>0      </td><td>0      </td><td>1      </td><td>0      </td><td> 2.0000</td><td>1      </td><td>2      </td></tr>\n",
       "\t<tr><th scope=row>4</th><td>1      </td><td>0      </td><td>0      </td><td>0      </td><td>1      </td><td>30.0000</td><td>1      </td><td>2      </td></tr>\n",
       "\t<tr><th scope=row>5</th><td>1      </td><td>0      </td><td>0      </td><td>1      </td><td>0      </td><td>25.0000</td><td>1      </td><td>2      </td></tr>\n",
       "\t<tr><th scope=row>6</th><td>1      </td><td>0      </td><td>0      </td><td>0      </td><td>1      </td><td>48.0000</td><td>0      </td><td>0      </td></tr>\n",
       "</tbody>\n",
       "</table>\n"
      ],
      "text/latex": [
       "\\begin{tabular}{r|llllllll}\n",
       "  & pclass.1st & pclass.2nd & pclass.3rd & sex.female & sex.male & age & sibsp & parch\\\\\n",
       "\\hline\n",
       "\t1 & 1       & 0       & 0       & 1       & 0       & 29.0000 & 0       & 0      \\\\\n",
       "\t2 & 1       & 0       & 0       & 0       & 1       &  0.9167 & 1       & 2      \\\\\n",
       "\t3 & 1       & 0       & 0       & 1       & 0       &  2.0000 & 1       & 2      \\\\\n",
       "\t4 & 1       & 0       & 0       & 0       & 1       & 30.0000 & 1       & 2      \\\\\n",
       "\t5 & 1       & 0       & 0       & 1       & 0       & 25.0000 & 1       & 2      \\\\\n",
       "\t6 & 1       & 0       & 0       & 0       & 1       & 48.0000 & 0       & 0      \\\\\n",
       "\\end{tabular}\n"
      ],
      "text/markdown": [
       "\n",
       "| <!--/--> | pclass.1st | pclass.2nd | pclass.3rd | sex.female | sex.male | age | sibsp | parch | \n",
       "|---|---|---|---|---|---|\n",
       "| 1 | 1       | 0       | 0       | 1       | 0       | 29.0000 | 0       | 0       | \n",
       "| 2 | 1       | 0       | 0       | 0       | 1       |  0.9167 | 1       | 2       | \n",
       "| 3 | 1       | 0       | 0       | 1       | 0       |  2.0000 | 1       | 2       | \n",
       "| 4 | 1       | 0       | 0       | 0       | 1       | 30.0000 | 1       | 2       | \n",
       "| 5 | 1       | 0       | 0       | 1       | 0       | 25.0000 | 1       | 2       | \n",
       "| 6 | 1       | 0       | 0       | 0       | 1       | 48.0000 | 0       | 0       | \n",
       "\n",
       "\n"
      ],
      "text/plain": [
       "  pclass.1st pclass.2nd pclass.3rd sex.female sex.male age     sibsp parch\n",
       "1 1          0          0          1          0        29.0000 0     0    \n",
       "2 1          0          0          0          1         0.9167 1     2    \n",
       "3 1          0          0          1          0         2.0000 1     2    \n",
       "4 1          0          0          0          1        30.0000 1     2    \n",
       "5 1          0          0          1          0        25.0000 1     2    \n",
       "6 1          0          0          0          1        48.0000 0     0    "
      ]
     },
     "metadata": {},
     "output_type": "display_data"
    }
   ],
   "source": [
    "require(caret)\n",
    "dummies <- dummyVars(survived ~ ., data = etitanic)\n",
    "head(predict(dummies, newdata = etitanic))"
   ]
  },
  {
   "cell_type": "markdown",
   "metadata": {},
   "source": [
    "## Zero- and Near-Zero-Variance Predictors"
   ]
  },
  {
   "cell_type": "code",
   "execution_count": 5,
   "metadata": {},
   "outputs": [
    {
     "data": {
      "text/html": [
       "<table>\n",
       "<thead><tr><th scope=col>Var1</th><th scope=col>Freq</th></tr></thead>\n",
       "<tbody>\n",
       "\t<tr><td>0  </td><td>501</td></tr>\n",
       "\t<tr><td>1  </td><td>  4</td></tr>\n",
       "\t<tr><td>2  </td><td> 23</td></tr>\n",
       "</tbody>\n",
       "</table>\n"
      ],
      "text/latex": [
       "\\begin{tabular}{r|ll}\n",
       " Var1 & Freq\\\\\n",
       "\\hline\n",
       "\t 0   & 501\\\\\n",
       "\t 1   &   4\\\\\n",
       "\t 2   &  23\\\\\n",
       "\\end{tabular}\n"
      ],
      "text/markdown": [
       "\n",
       "Var1 | Freq | \n",
       "|---|---|---|\n",
       "| 0   | 501 | \n",
       "| 1   |   4 | \n",
       "| 2   |  23 | \n",
       "\n",
       "\n"
      ],
      "text/plain": [
       "  Var1 Freq\n",
       "1 0    501 \n",
       "2 1      4 \n",
       "3 2     23 "
      ]
     },
     "metadata": {},
     "output_type": "display_data"
    }
   ],
   "source": [
    "data(mdrr)\n",
    "data.frame(table(mdrrDescr$nR11))"
   ]
  },
  {
   "cell_type": "code",
   "execution_count": 6,
   "metadata": {},
   "outputs": [
    {
     "data": {
      "text/html": [
       "<table>\n",
       "<thead><tr><th></th><th scope=col>freqRatio</th><th scope=col>percentUnique</th><th scope=col>zeroVar</th><th scope=col>nzv</th></tr></thead>\n",
       "<tbody>\n",
       "\t<tr><th scope=row>nTB</th><td> 23.00000</td><td>0.3787879</td><td>FALSE    </td><td>TRUE     </td></tr>\n",
       "\t<tr><th scope=row>nBR</th><td>131.00000</td><td>0.3787879</td><td>FALSE    </td><td>TRUE     </td></tr>\n",
       "\t<tr><th scope=row>nI</th><td>527.00000</td><td>0.3787879</td><td>FALSE    </td><td>TRUE     </td></tr>\n",
       "\t<tr><th scope=row>nR03</th><td>527.00000</td><td>0.3787879</td><td>FALSE    </td><td>TRUE     </td></tr>\n",
       "\t<tr><th scope=row>nR08</th><td>527.00000</td><td>0.3787879</td><td>FALSE    </td><td>TRUE     </td></tr>\n",
       "\t<tr><th scope=row>nR11</th><td> 21.78261</td><td>0.5681818</td><td>FALSE    </td><td>TRUE     </td></tr>\n",
       "\t<tr><th scope=row>nR12</th><td> 57.66667</td><td>0.3787879</td><td>FALSE    </td><td>TRUE     </td></tr>\n",
       "\t<tr><th scope=row>D.Dr03</th><td>527.00000</td><td>0.3787879</td><td>FALSE    </td><td>TRUE     </td></tr>\n",
       "\t<tr><th scope=row>D.Dr07</th><td>123.50000</td><td>5.8712121</td><td>FALSE    </td><td>TRUE     </td></tr>\n",
       "\t<tr><th scope=row>D.Dr08</th><td>527.00000</td><td>0.3787879</td><td>FALSE    </td><td>TRUE     </td></tr>\n",
       "</tbody>\n",
       "</table>\n"
      ],
      "text/latex": [
       "\\begin{tabular}{r|llll}\n",
       "  & freqRatio & percentUnique & zeroVar & nzv\\\\\n",
       "\\hline\n",
       "\tnTB &  23.00000 & 0.3787879 & FALSE     & TRUE     \\\\\n",
       "\tnBR & 131.00000 & 0.3787879 & FALSE     & TRUE     \\\\\n",
       "\tnI & 527.00000 & 0.3787879 & FALSE     & TRUE     \\\\\n",
       "\tnR03 & 527.00000 & 0.3787879 & FALSE     & TRUE     \\\\\n",
       "\tnR08 & 527.00000 & 0.3787879 & FALSE     & TRUE     \\\\\n",
       "\tnR11 &  21.78261 & 0.5681818 & FALSE     & TRUE     \\\\\n",
       "\tnR12 &  57.66667 & 0.3787879 & FALSE     & TRUE     \\\\\n",
       "\tD.Dr03 & 527.00000 & 0.3787879 & FALSE     & TRUE     \\\\\n",
       "\tD.Dr07 & 123.50000 & 5.8712121 & FALSE     & TRUE     \\\\\n",
       "\tD.Dr08 & 527.00000 & 0.3787879 & FALSE     & TRUE     \\\\\n",
       "\\end{tabular}\n"
      ],
      "text/markdown": [
       "\n",
       "| <!--/--> | freqRatio | percentUnique | zeroVar | nzv | \n",
       "|---|---|---|---|---|---|---|---|---|---|\n",
       "| nTB |  23.00000 | 0.3787879 | FALSE     | TRUE      | \n",
       "| nBR | 131.00000 | 0.3787879 | FALSE     | TRUE      | \n",
       "| nI | 527.00000 | 0.3787879 | FALSE     | TRUE      | \n",
       "| nR03 | 527.00000 | 0.3787879 | FALSE     | TRUE      | \n",
       "| nR08 | 527.00000 | 0.3787879 | FALSE     | TRUE      | \n",
       "| nR11 |  21.78261 | 0.5681818 | FALSE     | TRUE      | \n",
       "| nR12 |  57.66667 | 0.3787879 | FALSE     | TRUE      | \n",
       "| D.Dr03 | 527.00000 | 0.3787879 | FALSE     | TRUE      | \n",
       "| D.Dr07 | 123.50000 | 5.8712121 | FALSE     | TRUE      | \n",
       "| D.Dr08 | 527.00000 | 0.3787879 | FALSE     | TRUE      | \n",
       "\n",
       "\n"
      ],
      "text/plain": [
       "       freqRatio percentUnique zeroVar nzv \n",
       "nTB     23.00000 0.3787879     FALSE   TRUE\n",
       "nBR    131.00000 0.3787879     FALSE   TRUE\n",
       "nI     527.00000 0.3787879     FALSE   TRUE\n",
       "nR03   527.00000 0.3787879     FALSE   TRUE\n",
       "nR08   527.00000 0.3787879     FALSE   TRUE\n",
       "nR11    21.78261 0.5681818     FALSE   TRUE\n",
       "nR12    57.66667 0.3787879     FALSE   TRUE\n",
       "D.Dr03 527.00000 0.3787879     FALSE   TRUE\n",
       "D.Dr07 123.50000 5.8712121     FALSE   TRUE\n",
       "D.Dr08 527.00000 0.3787879     FALSE   TRUE"
      ]
     },
     "metadata": {},
     "output_type": "display_data"
    }
   ],
   "source": [
    "nzv <- nearZeroVar(mdrrDescr, saveMetrics= TRUE)\n",
    "nzv[nzv$nzv,][1:10,]"
   ]
  },
  {
   "cell_type": "code",
   "execution_count": 8,
   "metadata": {},
   "outputs": [
    {
     "data": {
      "text/html": [
       "<ol class=list-inline>\n",
       "\t<li>528</li>\n",
       "\t<li>297</li>\n",
       "</ol>\n"
      ],
      "text/latex": [
       "\\begin{enumerate*}\n",
       "\\item 528\n",
       "\\item 297\n",
       "\\end{enumerate*}\n"
      ],
      "text/markdown": [
       "1. 528\n",
       "2. 297\n",
       "\n",
       "\n"
      ],
      "text/plain": [
       "[1] 528 297"
      ]
     },
     "metadata": {},
     "output_type": "display_data"
    }
   ],
   "source": [
    "nzv <- nearZeroVar(mdrrDescr)\n",
    "filteredDescr <- mdrrDescr[, -nzv]\n",
    "dim(filteredDescr)"
   ]
  },
  {
   "cell_type": "code",
   "execution_count": 14,
   "metadata": {},
   "outputs": [],
   "source": [
    "descrCor <-  cor(filteredDescr)\n",
    "highCorr <- sum(abs(descrCor[upper.tri(descrCor)]) > .999) # there are 65 descriptors that are corr\n"
   ]
  },
  {
   "cell_type": "code",
   "execution_count": 15,
   "metadata": {},
   "outputs": [
    {
     "data": {
      "text/plain": [
       "    Min.  1st Qu.   Median     Mean  3rd Qu.     Max. \n",
       "-0.99607 -0.05373  0.25006  0.26078  0.65527  1.00000 "
      ]
     },
     "metadata": {},
     "output_type": "display_data"
    }
   ],
   "source": [
    "descrCor <- cor(filteredDescr)\n",
    "summary(descrCor[upper.tri(descrCor)])"
   ]
  },
  {
   "cell_type": "code",
   "execution_count": 16,
   "metadata": {},
   "outputs": [
    {
     "data": {
      "text/plain": [
       "    Min.  1st Qu.   Median     Mean  3rd Qu.     Max. \n",
       "-0.70728 -0.05378  0.04418  0.06692  0.18858  0.74458 "
      ]
     },
     "metadata": {},
     "output_type": "display_data"
    }
   ],
   "source": [
    "highlyCorDescr <- findCorrelation(descrCor, cutoff = .75)\n",
    "filteredDescr <- filteredDescr[,-highlyCorDescr]\n",
    "descrCor2 <- cor(filteredDescr)\n",
    "summary(descrCor2[upper.tri(descrCor2)])"
   ]
  },
  {
   "cell_type": "code",
   "execution_count": 17,
   "metadata": {},
   "outputs": [
    {
     "data": {
      "text/html": [
       "<dl>\n",
       "\t<dt>$linearCombos</dt>\n",
       "\t\t<dd><ol>\n",
       "\t<li><ol class=list-inline>\n",
       "\t<li>3</li>\n",
       "\t<li>1</li>\n",
       "\t<li>2</li>\n",
       "</ol>\n",
       "</li>\n",
       "\t<li><ol class=list-inline>\n",
       "\t<li>6</li>\n",
       "\t<li>1</li>\n",
       "\t<li>4</li>\n",
       "\t<li>5</li>\n",
       "</ol>\n",
       "</li>\n",
       "</ol>\n",
       "</dd>\n",
       "\t<dt>$remove</dt>\n",
       "\t\t<dd><ol class=list-inline>\n",
       "\t<li>3</li>\n",
       "\t<li>6</li>\n",
       "</ol>\n",
       "</dd>\n",
       "</dl>\n"
      ],
      "text/latex": [
       "\\begin{description}\n",
       "\\item[\\$linearCombos] \\begin{enumerate}\n",
       "\\item \\begin{enumerate*}\n",
       "\\item 3\n",
       "\\item 1\n",
       "\\item 2\n",
       "\\end{enumerate*}\n",
       "\n",
       "\\item \\begin{enumerate*}\n",
       "\\item 6\n",
       "\\item 1\n",
       "\\item 4\n",
       "\\item 5\n",
       "\\end{enumerate*}\n",
       "\n",
       "\\end{enumerate}\n",
       "\n",
       "\\item[\\$remove] \\begin{enumerate*}\n",
       "\\item 3\n",
       "\\item 6\n",
       "\\end{enumerate*}\n",
       "\n",
       "\\end{description}\n"
      ],
      "text/markdown": [
       "$linearCombos\n",
       ":   1. 1. 3\n",
       "2. 1\n",
       "3. 2\n",
       "\n",
       "\n",
       "\n",
       "2. 1. 6\n",
       "2. 1\n",
       "3. 4\n",
       "4. 5\n",
       "\n",
       "\n",
       "\n",
       "\n",
       "\n",
       "\n",
       "$remove\n",
       ":   1. 3\n",
       "2. 6\n",
       "\n",
       "\n",
       "\n",
       "\n",
       "\n"
      ],
      "text/plain": [
       "$linearCombos\n",
       "$linearCombos[[1]]\n",
       "[1] 3 1 2\n",
       "\n",
       "$linearCombos[[2]]\n",
       "[1] 6 1 4 5\n",
       "\n",
       "\n",
       "$remove\n",
       "[1] 3 6\n"
      ]
     },
     "metadata": {},
     "output_type": "display_data"
    }
   ],
   "source": [
    "# remove linear combination\n",
    "\n",
    "ltfrDesign <- matrix(0, nrow=6, ncol=6)\n",
    "ltfrDesign[,1] <- c(1, 1, 1, 1, 1, 1)\n",
    "ltfrDesign[,2] <- c(1, 1, 1, 0, 0, 0)\n",
    "ltfrDesign[,3] <- c(0, 0, 0, 1, 1, 1)\n",
    "ltfrDesign[,4] <- c(1, 0, 0, 1, 0, 0)\n",
    "ltfrDesign[,5] <- c(0, 1, 0, 0, 1, 0)\n",
    "ltfrDesign[,6] <- c(0, 0, 1, 0, 0, 1)\n",
    "\n",
    "comboInfo <- findLinearCombos(ltfrDesign)\n",
    "comboInfo"
   ]
  },
  {
   "cell_type": "code",
   "execution_count": 18,
   "metadata": {},
   "outputs": [
    {
     "data": {
      "text/html": [
       "<table>\n",
       "<tbody>\n",
       "\t<tr><td>1</td><td>1</td><td>1</td><td>0</td></tr>\n",
       "\t<tr><td>1</td><td>1</td><td>0</td><td>1</td></tr>\n",
       "\t<tr><td>1</td><td>1</td><td>0</td><td>0</td></tr>\n",
       "\t<tr><td>1</td><td>0</td><td>1</td><td>0</td></tr>\n",
       "\t<tr><td>1</td><td>0</td><td>0</td><td>1</td></tr>\n",
       "\t<tr><td>1</td><td>0</td><td>0</td><td>0</td></tr>\n",
       "</tbody>\n",
       "</table>\n"
      ],
      "text/latex": [
       "\\begin{tabular}{llll}\n",
       "\t 1 & 1 & 1 & 0\\\\\n",
       "\t 1 & 1 & 0 & 1\\\\\n",
       "\t 1 & 1 & 0 & 0\\\\\n",
       "\t 1 & 0 & 1 & 0\\\\\n",
       "\t 1 & 0 & 0 & 1\\\\\n",
       "\t 1 & 0 & 0 & 0\\\\\n",
       "\\end{tabular}\n"
      ],
      "text/markdown": [
       "\n",
       "| 1 | 1 | 1 | 0 | \n",
       "| 1 | 1 | 0 | 1 | \n",
       "| 1 | 1 | 0 | 0 | \n",
       "| 1 | 0 | 1 | 0 | \n",
       "| 1 | 0 | 0 | 1 | \n",
       "| 1 | 0 | 0 | 0 | \n",
       "\n",
       "\n"
      ],
      "text/plain": [
       "     [,1] [,2] [,3] [,4]\n",
       "[1,] 1    1    1    0   \n",
       "[2,] 1    1    0    1   \n",
       "[3,] 1    1    0    0   \n",
       "[4,] 1    0    1    0   \n",
       "[5,] 1    0    0    1   \n",
       "[6,] 1    0    0    0   "
      ]
     },
     "metadata": {},
     "output_type": "display_data"
    }
   ],
   "source": [
    "ltfrDesign[, -comboInfo$remove]"
   ]
  },
  {
   "cell_type": "markdown",
   "metadata": {},
   "source": [
    "## the Pre-process function\n",
    "\n",
    "### Centering and scaling"
   ]
  },
  {
   "cell_type": "code",
   "execution_count": 19,
   "metadata": {},
   "outputs": [],
   "source": [
    "set.seed(96)\n",
    "inTrain <- sample(seq(along = mdrrClass), length(mdrrClass)/2)\n",
    "\n",
    "training <- filteredDescr[inTrain,]\n",
    "test <- filteredDescr[-inTrain,]\n",
    "trainMDRR <- mdrrClass[inTrain]\n",
    "testMDRR <- mdrrClass[-inTrain]\n",
    "\n",
    "preProcValues <- preProcess(training, method = c(\"center\", \"scale\"))\n",
    "\n",
    "trainTransformed <- predict(preProcValues, training)\n",
    "testTransformed <- predict(preProcValues, test)"
   ]
  },
  {
   "cell_type": "code",
   "execution_count": 30,
   "metadata": {},
   "outputs": [
    {
     "name": "stderr",
     "output_type": "stream",
     "text": [
      "Warning message:\n",
      "\"package 'AppliedPredictiveModeling' was built under R version 3.4.3\""
     ]
    },
    {
     "data": {},
     "metadata": {},
     "output_type": "display_data"
    },
    {
     "data": {
      "image/png": "[encoded data removed]",
      "text/plain": [
       "plot without title"
      ]
     },
     "metadata": {},
     "output_type": "display_data"
    }
   ],
   "source": [
    "library(AppliedPredictiveModeling)\n",
    "transparentTheme(trans = .4)\n",
    "plotSubset <- data.frame(scale(mdrrDescr[, c(\"nC\", \"X4v\")])) \n",
    "xyplot(nC ~ X4v,\n",
    "       data = plotSubset,\n",
    "       groups = mdrrClass, \n",
    "       auto.key = list(columns = 2))  "
   ]
  },
  {
   "cell_type": "code",
   "execution_count": 31,
   "metadata": {},
   "outputs": [
    {
     "data": {},
     "metadata": {},
     "output_type": "display_data"
    },
    {
     "data": {
      "image/png": "[encoded data removed]",
      "text/plain": [
       "plot without title"
      ]
     },
     "metadata": {},
     "output_type": "display_data"
    }
   ],
   "source": [
    "transformed <- spatialSign(plotSubset)\n",
    "transformed <- as.data.frame(transformed)\n",
    "xyplot(nC ~ X4v, \n",
    "       data = transformed, \n",
    "       groups = mdrrClass, \n",
    "       auto.key = list(columns = 2)) "
   ]
  },
  {
   "cell_type": "code",
   "execution_count": 32,
   "metadata": {},
   "outputs": [
    {
     "data": {
      "text/plain": [
       "Created from 264 samples and 31 variables\n",
       "\n",
       "Pre-processing:\n",
       "  - Box-Cox transformation (31)\n",
       "  - ignored (0)\n",
       "\n",
       "Lambda estimates for Box-Cox transformation:\n",
       "   Min. 1st Qu.  Median    Mean 3rd Qu.    Max. \n",
       "-2.0000 -0.2000  0.3000  0.4097  1.7000  2.0000 \n"
      ]
     },
     "metadata": {},
     "output_type": "display_data"
    }
   ],
   "source": [
    "preProcValues2 <- preProcess(training, method = \"BoxCox\")\n",
    "trainBC <- predict(preProcValues2, training)\n",
    "testBC <- predict(preProcValues2, test)\n",
    "preProcValues2"
   ]
  }
 ],
 "metadata": {
  "kernelspec": {
   "display_name": "R [Anaconda3]",
   "language": "R",
   "name": "R [Anaconda3]"
  },
  "language_info": {
   "codemirror_mode": "r",
   "file_extension": ".r",
   "mimetype": "text/x-r-source",
   "name": "R",
   "pygments_lexer": "r",
   "version": "3.4.2"
  }
 },
 "nbformat": 4,
 "nbformat_minor": 2
}
